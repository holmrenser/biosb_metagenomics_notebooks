{
 "cells": [
  {
   "cell_type": "markdown",
   "metadata": {
    "cell_id": "9af63d8072834b55b97f7c5b13040859",
    "deepnote_cell_type": "text-cell-h2",
    "formattedRanges": [],
    "is_collapsed": false,
    "tags": []
   },
   "source": [
    "## CarveMe models "
   ]
  },
  {
   "cell_type": "code",
   "execution_count": null,
   "metadata": {
    "cell_id": "f9a6c74cf7164afeb94d713e082f9586",
    "deepnote_cell_type": "code",
    "deepnote_to_be_reexecuted": false,
    "execution_millis": 6042,
    "execution_start": 1665483558044,
    "source_hash": "ec1d0f1c",
    "tags": []
   },
   "outputs": [],
   "source": [
    "import glob\n",
    "import os\n",
    "import reframed \n",
    "import pandas as pd\n",
    "import cobra\n",
    "from pathlib import Path"
   ]
  },
  {
   "cell_type": "markdown",
   "metadata": {
    "cell_id": "0df4bbd3cd1a424581224f74f06cdc3e",
    "deepnote_cell_type": "text-cell-h3",
    "formattedRanges": [],
    "is_collapsed": false,
    "tags": []
   },
   "source": [
    "### Create models with CarveMe on rich and poor media, with and without O2 and with full environment. "
   ]
  },
  {
   "cell_type": "markdown",
   "metadata": {
    "cell_id": "a5c89e95-4576-49c8-a0f0-5e4937653349",
    "deepnote_cell_type": "text-cell-p",
    "formattedRanges": [],
    "is_collapsed": false,
    "tags": []
   },
   "source": [
    "Commands can be found at reconstructingModels notebook"
   ]
  },
  {
   "cell_type": "markdown",
   "metadata": {
    "cell_id": "5accc47a-f9af-4c10-a42c-918386a205ba",
    "deepnote_cell_type": "text-cell-p",
    "formattedRanges": [
     {
      "fromCodePoint": 15,
      "ranges": [],
      "toCodePoint": 56,
      "type": "link",
      "url": "https://carveme.readthedocs.io/en/latest/"
     }
    ],
    "is_collapsed": false,
    "tags": []
   },
   "source": [
    "Documentation: https://carveme.readthedocs.io/en/latest/"
   ]
  },
  {
   "cell_type": "markdown",
   "metadata": {
    "cell_id": "4183f4a4-5e0b-445c-ae73-18ca429e4d69",
    "deepnote_cell_type": "text-cell-p",
    "formattedRanges": [
     {
      "fromCodePoint": 22,
      "ranges": [],
      "toCodePoint": 88,
      "type": "link",
      "url": "https://academic.oup.com/nar/article/46/15/7542/5042022?login=true"
     }
    ],
    "is_collapsed": false,
    "tags": []
   },
   "source": [
    "Original publication: https://academic.oup.com/nar/article/46/15/7542/5042022?login=true"
   ]
  },
  {
   "cell_type": "code",
   "execution_count": null,
   "metadata": {
    "cell_id": "506dc5c462ed42f99ab538542f4f5352",
    "deepnote_cell_type": "code",
    "deepnote_to_be_reexecuted": false,
    "execution_millis": 10,
    "execution_start": 1665484534850,
    "source_hash": "45a43094",
    "tags": []
   },
   "outputs": [],
   "source": [
    "# path to models\n",
    "path = \"/data/precomputed/sbmlModels/carveme/\"\n",
    "\n",
    "dir_list = sorted(os.listdir(path))\n",
    "os.chdir(path)\n",
    "dir_list\n"
   ]
  },
  {
   "cell_type": "code",
   "execution_count": null,
   "metadata": {
    "cell_id": "ebad3373df224bb29870cb5f29c87e93",
    "deepnote_cell_type": "code",
    "deepnote_to_be_reexecuted": false,
    "execution_millis": 2243,
    "execution_start": 1665484543438,
    "source_hash": "372c825",
    "tags": []
   },
   "outputs": [],
   "source": [
    "#Bacteroides_thetaiotaomicron anaerobic M9 example\n",
    "model = load_cbmodel(dir_list[3])\n",
    "model.summary()"
   ]
  },
  {
   "cell_type": "markdown",
   "metadata": {
    "cell_id": "046c31727036457a9bdb093a2f4029fa",
    "deepnote_cell_type": "text-cell-p",
    "formattedRanges": [],
    "is_collapsed": false,
    "tags": []
   },
   "source": [
    "Code: For all models gather general statistics (e.g number of compounds, reactions etc.), run FBA, retrieve media dependent gap-filled reactions. Store everything into a .csv table "
   ]
  },
  {
   "cell_type": "code",
   "execution_count": null,
   "metadata": {
    "cell_id": "5fa58a88a30642c897b9c0c253ca92a8",
    "deepnote_cell_type": "code",
    "deepnote_to_be_reexecuted": false,
    "execution_millis": 218940,
    "execution_start": 1665484589159,
    "source_hash": "67761422",
    "tags": []
   },
   "outputs": [],
   "source": [
    "#FBA with reframed needs solver CPLEX\n",
    "#create a folder \"EX_reactions\"\n",
    "# path_ex = \"/root/work/sbmlModels/GAPFILL/EX_reactions\"\n",
    "# F = []\n",
    "# ex = []\n",
    "# for file_name in dir_list:\n",
    "#     GR = []\n",
    "#     GR_id = []\n",
    "#     model = load_cbmodel(file_name)\n",
    "#     solution = FBA(model) \n",
    "#     GR.append(file_name)\n",
    "#     GR.append(solution.fobj) \n",
    "\n",
    "#     for c_id in model.compartments:\n",
    "#         GR.append(len(model.get_compartment_metabolites(c_id)))\n",
    "#     GR.append(len(model.reactions))\n",
    "#     check_growth=0# get gap-filled number of reactions\n",
    "#     gap_fill=-1\n",
    "#     for c_id in model.reactions:\n",
    "#         if(check_growth==1):\n",
    "#             GR_id=\"%s;%s\"%(GR_id,c_id)\n",
    "#             gap_fill+=1\n",
    "#         if(c_id==\"Growth\"):\n",
    "#             check_growth=1\n",
    "#     GR.append(gap_fill)\n",
    "#     GR.append(GR_id)\n",
    "#     F.append(GR)\n",
    "#     exdf = pd.DataFrame(solution.values.items()) export reframed FBA solution\n",
    "#     exdf.to_csv(path_ex+'/'+'/RN_'+file_name.replace(\".xml\", \".csv\" )) \n",
    "    \n",
    "\n",
    "# df = pd.DataFrame(F)\n",
    "# df.to_csv('/root/work/output/GAPFILL/models_stat.csv') \n",
    "dir_list_selection = [dir_list[index] for index in [0, 1]]\n",
    "dir_list_selection # example select two models.\n",
    "\n",
    "from reframed import load_cbmodel, to_cobrapy\n",
    "\n",
    "F = []\n",
    "ex = []\n",
    "for file_name in dir_list_selection:\n",
    "    GR = []\n",
    "    GR_id = []\n",
    "    model = load_cbmodel(file_name)\n",
    "    GR.append(file_name)\n",
    "    cb_model = to_cobrapy(model)\n",
    "    obj = cb_model.optimize()\n",
    "    GR.append(obj.objective_value)\n",
    "\n",
    "    for c_id in model.compartments:\n",
    "        GR.append(len(model.get_compartment_metabolites(c_id)))\n",
    "    GR.append(len(model.reactions))\n",
    "    check_growth=0# get gap-filled number of reactions\n",
    "    gap_fill=-1\n",
    "    for c_id in model.reactions:\n",
    "        if(check_growth==1):\n",
    "            GR_id=\"%s;%s\"%(GR_id,c_id)\n",
    "            gap_fill+=1\n",
    "        if(c_id==\"Growth\"):\n",
    "            check_growth=1\n",
    "    GR.append(gap_fill)\n",
    "    GR.append(GR_id)\n",
    "    F.append(GR)\n",
    "    \n",
    "df = pd.DataFrame(F)\n",
    "df.to_csv('~/models_stat_selection.csv') "
   ]
  },
  {
   "cell_type": "markdown",
   "metadata": {
    "cell_id": "d4226be3ab9f4e3cbaf99ef26cd5475c",
    "deepnote_cell_type": "text-cell-p",
    "formattedRanges": [],
    "is_collapsed": false,
    "tags": []
   },
   "source": [
    "Table with full results can be found at /root/work/output/GAPFILL/DATA/models_stat.tsv"
   ]
  },
  {
   "cell_type": "markdown",
   "metadata": {
    "cell_id": "655864a1929f401cbc8e45a635d980c9",
    "deepnote_cell_type": "text-cell-p",
    "formattedRanges": [],
    "is_collapsed": false,
    "tags": []
   },
   "source": [
    "CODE: function to get all reaction without gene association rule."
   ]
  },
  {
   "cell_type": "code",
   "execution_count": null,
   "metadata": {
    "cell_id": "bcbd5c9c3e824cf69198c8be125e1eb3",
    "deepnote_cell_type": "code",
    "deepnote_to_be_reexecuted": false,
    "execution_millis": 0,
    "execution_start": 1665483956522,
    "source_hash": "2a3fc735",
    "tags": []
   },
   "outputs": [],
   "source": [
    "def remove_genelessreactions(model):\n",
    "    geneslessreactions = []\n",
    "    for i in model.reactions:\n",
    "        if(i.genes==frozenset()):\n",
    "            geneslessreactions.append(i)\n",
    "    return geneslessreactions"
   ]
  },
  {
   "cell_type": "markdown",
   "metadata": {
    "cell_id": "f90abc4e2c5a425490fc2222bdfc4a0a",
    "deepnote_cell_type": "text-cell-p",
    "formattedRanges": [],
    "is_collapsed": false,
    "tags": []
   },
   "source": [
    "CODE: retrieve and store all added reactions without GPR association. "
   ]
  },
  {
   "cell_type": "code",
   "execution_count": null,
   "metadata": {
    "cell_id": "74f247e039ed42d8b85dfff2a07e28b9",
    "deepnote_cell_type": "code",
    "deepnote_to_be_reexecuted": false,
    "execution_millis": 33143,
    "execution_start": 1665484047341,
    "source_hash": "1561048a",
    "tags": []
   },
   "outputs": [],
   "source": [
    "#create a folder \"Geneless_reactions\"\n",
    "output_path = '~/Geneless_reactions'\n",
    "Path(output_path).mkdir()\n",
    "\n",
    "model_ids = []\n",
    "for filename in dir_list:\n",
    "    if('gr_'+filename not in os.listdir(output_path) and filename != 'Geneless_removed'):\n",
    "        model =  cobra.io.read_sbml_model(path+'/'+filename)\n",
    "        rn = remove_genelessreactions(model)\n",
    "        RN = pd.DataFrame(rn)\n",
    "        RN.to_csv(output_path+'/'+'/RN_Geneless_'+filename.replace(\".xml\", \".csv\" )) \n"
   ]
  },
  {
   "cell_type": "markdown",
   "metadata": {
    "cell_id": "b320f254-0e26-4db5-8a9f-c8564d175a73",
    "deepnote_cell_type": "text-cell-h2",
    "formattedRanges": [
     {
      "fromCodePoint": 0,
      "marks": {
       "bold": true
      },
      "toCodePoint": 63,
      "type": "marks"
     }
    ],
    "is_collapsed": false,
    "tags": []
   },
   "source": [
    "## TASK: explore the generated data from the models (python or R) "
   ]
  },
  {
   "cell_type": "markdown",
   "metadata": {
    "cell_id": "e2402260e459400f8de7386ea5909637",
    "deepnote_cell_type": "text-cell-bullet",
    "formattedRanges": [
     {
      "fromCodePoint": 0,
      "marks": {
       "bold": true
      },
      "toCodePoint": 1,
      "type": "marks"
     }
    ],
    "is_collapsed": false,
    "tags": []
   },
   "source": [
    "-  The FBA solutions, highlight the two different conditions (O2, -O2) and two media (LB, M9). What do you observe?"
   ]
  },
  {
   "cell_type": "markdown",
   "metadata": {
    "cell_id": "3ec0158f-26f7-4b7f-8cef-96341ccbac9b",
    "deepnote_cell_type": "text-cell-bullet",
    "formattedRanges": [],
    "is_collapsed": false,
    "tags": []
   },
   "source": [
    "-  The number of media dependent gap-filled reactions, highlight the two different conditions (O2, -O2) and two media (LB, M9). What do you observe? "
   ]
  },
  {
   "cell_type": "markdown",
   "metadata": {
    "cell_id": "4004c8e0-b2c9-4140-8944-35c4ab97f5e9",
    "deepnote_cell_type": "text-cell-bullet",
    "formattedRanges": [],
    "is_collapsed": false,
    "tags": []
   },
   "source": [
    "-  The number of gap-filled reactions (tip! use the files in GAPFILL/Geneless_reactions/)"
   ]
  },
  {
   "cell_type": "markdown",
   "metadata": {
    "cell_id": "a08c533f-9220-464e-89fa-87a7931ff172",
    "deepnote_cell_type": "text-cell-bullet",
    "formattedRanges": [],
    "is_collapsed": false,
    "tags": []
   },
   "source": [
    "-  Sub-select all exchange reactions per model and visualize the import and export compounds on both media (tip! use the files in GAPFILL/EX_reactions/ and sub-select reaction based on \"R_EX\" pattern) "
   ]
  },
  {
   "cell_type": "markdown",
   "metadata": {
    "cell_id": "7d321fb3-804b-4cdd-8296-3f5d29635dc7",
    "deepnote_cell_type": "text-cell-p",
    "formattedRanges": [],
    "is_collapsed": false,
    "tags": []
   },
   "source": [
    "Try first by yourself! Solution: R-code can be found at /root/work/output/GAPFILL/RCODE/"
   ]
  },
  {
   "cell_type": "markdown",
   "metadata": {
    "created_in_deepnote_cell": true,
    "deepnote_cell_type": "markdown",
    "tags": []
   },
   "source": [
    "<a style='text-decoration:none;line-height:16px;display:flex;color:#5B5B62;padding:10px;justify-content:end;' href='https://deepnote.com?utm_source=created-in-deepnote-cell&projectId=3f18ea3e-7409-46ac-b47b-7a847a3fc095' target=\"_blank\">\n",
    "<img alt='Created in deepnote.com' style='display:inline;max-height:16px;margin:0px;margin-right:7.5px;' src='data:image/svg+xml;base64,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' > </img>\n",
    "Created in <span style='font-weight:600;margin-left:4px;'>Deepnote</span></a>"
   ]
  }
 ],
 "metadata": {
  "deepnote": {},
  "deepnote_execution_queue": [],
  "deepnote_notebook_id": "791ebbe3283d4b6e9ae2d8491f7da4f5",
  "kernelspec": {
   "display_name": "Python 3 (ipykernel)",
   "language": "python",
   "name": "python3"
  },
  "language_info": {
   "codemirror_mode": {
    "name": "ipython",
    "version": 3
   },
   "file_extension": ".py",
   "mimetype": "text/x-python",
   "name": "python",
   "nbconvert_exporter": "python",
   "pygments_lexer": "ipython3",
   "version": "3.9.13"
  }
 },
 "nbformat": 4,
 "nbformat_minor": 4
}
