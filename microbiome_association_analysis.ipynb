{
 "cells": [
  {
   "cell_type": "raw",
   "id": "dc7c1820",
   "metadata": {},
   "source": [
    "---\n",
    "title: \"Basic Microbiome Association Analysis\"\n",
    "author: \"Daoming Wang; Jiafei Wu\"\n",
    "date: '2024-10-16'\n",
    "output: \n",
    "  html_document:\n",
    "    theme: simplex\n",
    "    toc: yes\n",
    "    toc_float:\n",
    "      collapsed: true\n",
    "---"
   ]
  },
  {
   "cell_type": "markdown",
   "id": "760cc7d1",
   "metadata": {
    "lines_to_next_cell": 0
   },
   "source": []
  },
  {
   "cell_type": "code",
   "execution_count": null,
   "id": "40547cbb",
   "metadata": {
    "name": "setup",
    "tags": [
     "remove_cell"
    ]
   },
   "outputs": [],
   "source": [
    "knitr::opts_chunk$set(echo = TRUE)"
   ]
  },
  {
   "cell_type": "markdown",
   "id": "5aa3cc96",
   "metadata": {},
   "source": [
    "## 1. Preparation\n",
    "\n",
    "### 1.1 Load Necessary Libraries"
   ]
  },
  {
   "cell_type": "code",
   "execution_count": null,
   "id": "938a8541",
   "metadata": {
    "message": false,
    "warning": false
   },
   "outputs": [],
   "source": [
    "library(tidyverse)  # For data manipulation and visualization\n",
    "library(vegan)      # For ecological analysis\n",
    "library(ape)        # For phylogenetic analysis\n",
    "library(microbiome) # For microbiome data transformations\n",
    "library(mediation)  # For mediation analysis"
   ]
  },
  {
   "cell_type": "markdown",
   "id": "b08d68b0",
   "metadata": {},
   "source": [
    "### 1.2 Load Input Data"
   ]
  },
  {
   "cell_type": "code",
   "execution_count": null,
   "id": "c6e353c0",
   "metadata": {},
   "outputs": [],
   "source": [
    "microbiome_data <- read.table(\"Input/lld.metaphlan2.species.tsv\", header = TRUE)  # Species abundance table\n",
    "phenotype_data <- read.table(\"Input/lld.phen.tsv\", header = TRUE)                 # Phenotype table"
   ]
  },
  {
   "cell_type": "markdown",
   "id": "52550a01",
   "metadata": {},
   "source": [
    "## 2. Preprocessing\n",
    "\n",
    "The original Metaphlan2 output has long taxonomy names, which are not convenient for analysis. We will clean up the names and make the dataset easier to work with."
   ]
  },
  {
   "cell_type": "code",
   "execution_count": null,
   "id": "31c683f5",
   "metadata": {},
   "outputs": [],
   "source": [
    "# Shorten taxonomy names to keep only the species names\n",
    "rownames(microbiome_data) <- str_replace_all(rownames(microbiome_data), \"^.*s__\", \"s__\")\n",
    "\n",
    "# Transpose abundance table: rows are samples and columns are species\n",
    "microbiome_data <- t(microbiome_data)\n",
    "\n",
    "# Rescale the table to ensure row sums are equal to 1\n",
    "microbiome_data <- apply(microbiome_data, 1, function(x) x / sum(x)) %>% t() %>% as.data.frame()\n",
    "\n",
    "# rowSums(microbiome_data) ## Check if the row sums of 'microbiome_data' are all equal to 1\n"
   ]
  },
  {
   "cell_type": "markdown",
   "id": "85c5180b",
   "metadata": {},
   "source": [
    "## 3. Ecological Parameters\n",
    "\n",
    "For analyzing overall ecological parameters, such as alpha and beta diversity, we use the **unfiltered** abundance table.\n",
    "\n",
    "### 3.1 Alpha Diversity"
   ]
  },
  {
   "cell_type": "code",
   "execution_count": null,
   "id": "c26b5eea",
   "metadata": {},
   "outputs": [],
   "source": [
    "# Calculate Shannon diversity using vegan's function, and count the species number (richness).\n",
    "alpha_diversity <- data.frame(\n",
    "  Shannon  = vegan::diversity(microbiome_data, index = \"shannon\"),\n",
    "  Richness = rowSums(microbiome_data != 0)\n",
    ")\n",
    "\n",
    "# Create directory for results if it doesn't exist\n",
    "if (!dir.exists(\"Results\")) { dir.create(\"Results\") }\n",
    "# Save the alpha diversity results\n",
    "write.table(alpha_diversity, \"Results/alpha_diversity_metrics.tsv\", sep = \"\\t\", row.names = TRUE, col.names = NA, quote = FALSE)\n",
    "\n",
    "# Check if there is a difference in gut microbiome Shonnon index between hyperglycemia patients and health controls\n",
    "wilcox.test(alpha_diversity$Shannon ~ phenotype_data$Hyperglycemia)\n",
    "\n",
    "# Visualize the between-group differences in Shannon index using a boxplot\n",
    "ggplot(data = cbind(alpha_diversity, phenotype_data), \n",
    "       aes(x = factor(Hyperglycemia, labels = c(\"Control\", \"Hyperglycemia\")), \n",
    "           y = Shannon, \n",
    "           fill = factor(Hyperglycemia, labels = c(\"Control\", \"Hyperglycemia\")),\n",
    "           color = factor(Hyperglycemia, labels = c(\"Control\", \"Hyperglycemia\")))) +\n",
    "  geom_boxplot(alpha = 0.7, outlier.shape = 21, outlier.fill = \"white\") +\n",
    "  geom_jitter(width = 0.2, alpha = 0.5) +\n",
    "  stat_summary(fun = mean, geom = \"point\", shape = 23, size = 3, fill = \"white\") +\n",
    "  labs(x = \"Group\", \n",
    "       y = \"Shannon Index\",\n",
    "       title = \"Shannon Diversity Index by Hyperglycemia Status\") +\n",
    "  scale_fill_manual(values = c(\"#4169E1\", \"#FF6347\")) +\n",
    "  scale_color_manual(values = c(\"#4169E1\", \"#FF6347\")) +\n",
    "  theme_minimal() +\n",
    "  theme(legend.position = \"none\",\n",
    "        plot.title = element_text(hjust = 0.5, face = \"bold\"),\n",
    "        plot.subtitle = element_text(hjust = 0.5),\n",
    "        axis.title = element_text(face = \"bold\"),\n",
    "        axis.text = element_text(size = 10))"
   ]
  },
  {
   "cell_type": "markdown",
   "id": "4b5a8e13",
   "metadata": {},
   "source": [
    "### 3.2 Beta Diversity\n",
    "\n",
    "Principal coordinates analysis (PCoA) can help us reduce the dimension of microbiome composition data, capture the main information of high-dimension dataset and project them to a few number of new dimensions. The PCoA plot can visually reflect the distance (dissimilarity) between samples."
   ]
  },
  {
   "cell_type": "code",
   "execution_count": null,
   "id": "798fee5b",
   "metadata": {},
   "outputs": [],
   "source": [
    "# Calculate dissimilarities using Bray-Curtis index\n",
    "microbiome_dist <- vegdist(microbiome_data, index = \"bray\")\n",
    "\n",
    "# Perform PCoA\n",
    "microbiome_pcoa <- ape::pcoa(microbiome_dist)\n",
    "\n",
    "# Extract principal coordinates\n",
    "principal_coords <- data.frame(microbiome_pcoa$vectors)\n",
    "\n",
    "# PCoA plot: visualize the first 2 principal coordinates\n",
    "# Calculate the percentage of variance explained by each axis\n",
    "variance_explained <- microbiome_pcoa$values$Relative_eig * 100\n",
    "\n",
    "ggplot(principal_coords, aes(Axis.1, Axis.2, color = as.factor(phenotype_data$Hyperglycemia))) +\n",
    "  geom_point(size = 1, alpha = 0.7) +\n",
    "  xlab(paste0(\"PCoA1 (\", round(variance_explained[1], 2), \"%)\")) +\n",
    "  ylab(paste0(\"PCoA2 (\", round(variance_explained[2], 2), \"%)\")) +\n",
    "  scale_color_manual(values = c(\"#4169E1\", \"#FF6347\"), name = \"Hyperglycemia\") +\n",
    "  theme_minimal() +\n",
    "  theme(\n",
    "    legend.position = \"right\",\n",
    "    axis.title = element_text(face = \"bold\"),\n",
    "    legend.title = element_text(face = \"bold\")\n",
    "  ) +\n",
    "  labs(title = \"PCoA of Gut Microbiome Composition Based on Bray-Curtis Dissimilarity\",\n",
    "       subtitle = \"With 95% confidence ellipses\") +\n",
    "  coord_fixed(ratio = 1) +\n",
    "  stat_ellipse(aes(group = as.factor(phenotype_data$Hyperglycemia)), \n",
    "               type = \"t\", level = 0.95, linetype = 2)"
   ]
  },
  {
   "cell_type": "markdown",
   "id": "48c3ab29",
   "metadata": {},
   "source": [
    "### 3.3 PERMANOVA\n",
    "\n",
    "Permutational multivariate analysis of variance (PERMANOVA) can help us estimate the proportion of variance explained by different factors."
   ]
  },
  {
   "cell_type": "code",
   "execution_count": null,
   "id": "ef3a0488",
   "metadata": {},
   "outputs": [],
   "source": [
    "permanova_results <- adonis2(microbiome_dist ~ Age + Sex + FruitIntakeFrequency + Glucose, phenotype_data, permutations = 999)\n",
    "\n",
    "# Save the PERMANOVA results\n",
    "if (!dir.exists(\"Results\")) { dir.create(\"Results\") }\n",
    "write.table(as.data.frame(permanova_results), \"Results/PERMANOVA_results.tsv\", sep = \"\\t\", row.names = TRUE, col.names = NA, quote = FALSE)"
   ]
  },
  {
   "cell_type": "markdown",
   "id": "b24dc69e",
   "metadata": {},
   "source": [
    "## 4. Preparing for Association Analysis\n",
    "\n",
    "### 4.1 Filtering\n",
    "\n",
    "Filter species based on mean abundance and prevalence to retain those that are highly prevalent and abundant. This step should be done **before CLR transformation**."
   ]
  },
  {
   "cell_type": "code",
   "execution_count": null,
   "id": "fed79c12",
   "metadata": {},
   "outputs": [],
   "source": [
    "# Calculate mean abundance and prevalence for each species\n",
    "mean_abundance <- colMeans(microbiome_data)\n",
    "prevalence <- colSums(microbiome_data > 0) / nrow(microbiome_data)\n",
    "\n",
    "# Filter species based on abundance and prevalence criteria. Here we keep species that have a mean abundance greater than 0.01% and are present in more than 5% of samples.\n",
    "species_to_keep <- colnames(microbiome_data)[mean_abundance > 0.0001 & prevalence > 0.05]\n",
    "microbiome_filtered <- microbiome_data[, species_to_keep]\n",
    "\n",
    "# Rescale the filtered table (🤔Think: Is this necessary?)\n",
    "microbiome_filtered <- apply(microbiome_filtered, 1, function(x) x / sum(x)) %>% t() %>% as.data.frame()"
   ]
  },
  {
   "cell_type": "markdown",
   "id": "6c7ecf2d",
   "metadata": {},
   "source": [
    "### 4.2 CLR Transformation\n",
    "\n",
    "Now we use centered log-ratio (CLR) transformation to remove compositional dependency between variables."
   ]
  },
  {
   "cell_type": "code",
   "execution_count": null,
   "id": "e65f717f",
   "metadata": {},
   "outputs": [],
   "source": [
    "# CLR transformation\n",
    "# Note that the input table of microbiome::transform() function requires samples in columns and taxa in rows, this is why we transpose the table with the function t() and then transpose it back.\n",
    "microbiome_clr <- microbiome::transform(t(microbiome_filtered), transform = \"clr\") %>% t()"
   ]
  },
  {
   "cell_type": "markdown",
   "id": "e41891d8",
   "metadata": {},
   "source": [
    "### 4.3 Sequencing Depth Adjustment\n",
    "\n",
    "In metagenomic sequencing-based microbiome studies, sequencing depth often varies across samples, which can introduce bias in diversity estimation and species associations. Two main strategies can address this issue: \n",
    "\n",
    "1. **Rarefaction or Downsampling**: This method involves randomly re-sampling the reads from each sample to a uniform read count, ensuring all samples have the same sequencing depth. However, this approach has the downside of discarding valuable data, leading to inefficiencies in both cost and information.\n",
    "\n",
    "2. **Incorporating Sequencing Depth (Read Count) as a Covariate**: This approach accounts for sequencing depth in downstream statistical analyses, helping to remove its confounding effects. We recommend this method, as it preserves all data and provides a more robust analysis.\n",
    "\n",
    "Here we use the second strategy to evaluate how sequencing depth influences microbiome diversity estimates and species abundance."
   ]
  },
  {
   "cell_type": "code",
   "execution_count": null,
   "id": "d4d0efcc",
   "metadata": {},
   "outputs": [],
   "source": [
    "# Correlation between read count and Shannon diversity / Richness\n",
    "cor.test(phenotype_data$CleanReadCount, alpha_diversity$Shannon, method = \"spearman\")\n",
    "cor.test(phenotype_data$CleanReadCount, alpha_diversity$Richness, method = \"kendall\")\n",
    "\n",
    "# Correlation between read count and species abundance\n",
    "species_read_corr <- data.frame(Species = colnames(microbiome_clr), R = NA, P = NA)\n",
    "\n",
    "# Loop through each species to calculate correlation with read count\n",
    "for (i in 1:ncol(microbiome_clr)) {\n",
    "  corr_test <- cor.test(microbiome_clr[, i], phenotype_data$CleanReadCount, method = \"spearman\")\n",
    "  species_read_corr$R[i] <- corr_test$estimate  # Store correlation coefficient\n",
    "  species_read_corr$P[i] <- corr_test$p.value   # Store p-value\n",
    "}\n",
    "\n",
    "# Adjust p-values for multiple testing\n",
    "species_read_corr$FDR <- p.adjust(species_read_corr$P, method = \"fdr\")\n",
    "# Sort results by p-value\n",
    "species_read_corr <- arrange(species_read_corr, P)\n",
    "\n",
    "# Save correlation results to file\n",
    "if (!dir.exists(\"Results\")) { dir.create(\"Results\") }\n",
    "write.table(species_read_corr, \"Results/species_abundance_read_count_correlation.tsv\", sep = \"\\t\", row.names = FALSE, col.names = TRUE, quote = FALSE)"
   ]
  },
  {
   "cell_type": "markdown",
   "id": "3657a6b8",
   "metadata": {},
   "source": [
    "## 5. Association Analysis\n",
    "\n",
    "### 5.1 Association Analysis between Microbial Species Abundance and Phenotypes (Unadjusted)\n",
    "\n",
    "We use **Spearman's correlation** for analyzing the association between two continuous variables, and the **Wilcoxon rank-sum test** for the association between a continuous variable and a binary variable (0/1), when no confounding effects are considered."
   ]
  },
  {
   "cell_type": "code",
   "execution_count": null,
   "id": "ba7f1168",
   "metadata": {},
   "outputs": [],
   "source": [
    "# Association between species abundance and binary variable (hyperglycemia)\n",
    "hyperglycemia_wilcox <- data.frame(Species = colnames(microbiome_clr), Mean_0 = NA, Mean_1 = NA, P = NA)\n",
    "\n",
    "# Loop through each species in the microbiome_clr dataset\n",
    "for (i in 1:ncol(microbiome_clr)) {\n",
    "  # Perform Wilcoxon rank-sum test for each species\n",
    "  test_result <- wilcox.test(microbiome_clr[, i] ~ phenotype_data$Hyperglycemia)\n",
    "  # Calculate mean abundance for non-hyperglycemic group (0)\n",
    "  hyperglycemia_wilcox$Mean_0[i] <- mean(microbiome_clr[phenotype_data$Hyperglycemia == 0, i])\n",
    "  # Calculate mean abundance for hyperglycemic group (1)\n",
    "  hyperglycemia_wilcox$Mean_1[i] <- mean(microbiome_clr[phenotype_data$Hyperglycemia == 1, i])\n",
    "  # Store the p-value from the Wilcoxon test\n",
    "  hyperglycemia_wilcox$P[i] <- test_result$p.value\n",
    "}\n",
    "\n",
    "# Calculate the difference in mean abundance between hyperglycemic and non-hyperglycemic groups\n",
    "hyperglycemia_wilcox$Difference <- hyperglycemia_wilcox$Mean_1 - hyperglycemia_wilcox$Mean_0\n",
    "# Adjust p-values for multiple testing using FDR method\n",
    "hyperglycemia_wilcox$FDR <- p.adjust(hyperglycemia_wilcox$P, method = \"fdr\")\n",
    "# Sort the results by p-value\n",
    "hyperglycemia_wilcox <- arrange(hyperglycemia_wilcox, P)\n",
    "\n",
    "# Save results of Wilcoxon test for hyperglycemia\n",
    "if (!dir.exists(\"Results\")) { dir.create(\"Results\") }\n",
    "write.table(hyperglycemia_wilcox, \"Results/hyperglycemia_species_association_wilcoxon.tsv\", sep = \"\\t\", row.names = FALSE, col.names = TRUE, quote = FALSE)\n",
    "\n",
    "# Association between species abundance and continuous variable (glucose)\n",
    "glucose_spearman <- data.frame(Species = colnames(microbiome_clr), R = NA, P = NA)\n",
    "\n",
    "# Perform Spearman correlation for each species\n",
    "for (i in 1:ncol(microbiome_clr)) {\n",
    "  test_result <- cor.test(microbiome_clr[, i], phenotype_data$Glucose, method = \"spearman\")\n",
    "  glucose_spearman$R[i] <- test_result$estimate  # Correlation coefficient\n",
    "  glucose_spearman$P[i] <- test_result$p.value   # P-value\n",
    "}\n",
    "\n",
    "# Adjust p-values for multiple testing\n",
    "glucose_spearman$FDR <- p.adjust(glucose_spearman$P, method = \"fdr\")\n",
    "# Sort results by p-value\n",
    "glucose_spearman <- arrange(glucose_spearman, P)\n",
    "\n",
    "# Save results of Spearman correlation for glucose\n",
    "if (!dir.exists(\"Results\")) { dir.create(\"Results\") }\n",
    "write.table(glucose_spearman, \"Results/glucose_species_association_spearman.tsv\", sep = \"\\t\", row.names = FALSE, col.names = TRUE, quote = FALSE)"
   ]
  },
  {
   "cell_type": "markdown",
   "id": "e88d320e",
   "metadata": {},
   "source": [
    "### 5.2 Association Analysis between Microbial Species Abundance and Phenotypes (Adjusting for Covariates)\n",
    "\n",
    "For association analyses involving potential confounders, we apply **linear regression** when the outcome variable (y) is continuous, and **logistic regression** when the outcome is binary (0/1). To control for confounding effects, we include relevant covariates in the models. In microbiome studies, **sequencing depth** is often included as a covariate. Additionally, in human studies, **age** and **sex** are commonly considered important confounding factors."
   ]
  },
  {
   "cell_type": "code",
   "execution_count": null,
   "id": "e397e0da",
   "metadata": {},
   "outputs": [],
   "source": [
    "# Association between species abundance and binary variables\n",
    "hyperglycemia_reg <- data.frame(Species = colnames(microbiome_clr), Beta = NA, P = NA)\n",
    "\n",
    "# Loop through each species and perform logistic regression\n",
    "for (i in 1:ncol(microbiome_clr)) {\n",
    "  model <- glm(Hyperglycemia ~ Age + Sex + CleanReadCount + microbiome_clr[, i], data = phenotype_data, family = \"binomial\")\n",
    "  model_summary <- summary(model)\n",
    "  hyperglycemia_reg$Beta[i] <- model_summary$coefficients[5, 1]  # Extract Beta coefficient\n",
    "  hyperglycemia_reg$P[i] <- model_summary$coefficients[5, 4]     # Extract P-value\n",
    "}\n",
    "\n",
    "# Adjust for multiple testing and sort results\n",
    "hyperglycemia_reg$FDR <- p.adjust(hyperglycemia_reg$P, method = \"fdr\")\n",
    "hyperglycemia_reg <- arrange(hyperglycemia_reg, P)\n",
    "\n",
    "# Save results to file\n",
    "if (!dir.exists(\"Results\")) { dir.create(\"Results\") }\n",
    "write.table(hyperglycemia_reg, \"Results/hyperglycemia_species_association_logistic_regression.tsv\", sep = \"\\t\", row.names = FALSE, col.names = TRUE, quote = FALSE)\n",
    "\n",
    "# Association between species abundance and continuous variables\n",
    "glucose_reg <- data.frame(Species = colnames(microbiome_clr), Beta = NA, P = NA)\n",
    "\n",
    "# Loop through each species and perform linear regression\n",
    "for (i in 1:ncol(microbiome_clr)) {\n",
    "  model <- lm(Glucose ~ Age + Sex + CleanReadCount + microbiome_clr[, i], data = phenotype_data)\n",
    "  model_summary <- summary(model)\n",
    "  glucose_reg$Beta[i] <- model_summary$coefficients[5, 1]  # Extract Beta coefficient\n",
    "  glucose_reg$P[i] <- model_summary$coefficients[5, 4]     # Extract P-value\n",
    "}\n",
    "\n",
    "# Adjust for multiple testing and sort results\n",
    "glucose_reg$FDR <- p.adjust(glucose_reg$P, method = \"fdr\")\n",
    "glucose_reg <- arrange(glucose_reg, P)\n",
    "\n",
    "# Save results to file\n",
    "if (!dir.exists(\"Results\")) { dir.create(\"Results\") }\n",
    "write.table(glucose_reg, \"Results/glucose_species_association_linear_regression.tsv\", sep = \"\\t\", row.names = FALSE, col.names = TRUE, quote = FALSE)"
   ]
  },
  {
   "cell_type": "markdown",
   "id": "91789352",
   "metadata": {},
   "source": [
    "## 6. Mediation Analysis\n",
    "\n",
    "**Mediation analysis** is a statistical technique that helps us infer causal or regulatory relationships among multiple factors. In our previous results, we observed that the bacterial species *Eubacterium eligens* showed the most significant negative association with glucose levels. We are interested in exploring whether *E. eligens* could potentially be used as a target to decrease glucose levels through lifestyle interventions, such as increased fruit consumption.\n",
    "\n",
    "To investigate this, we can use mediation analysis to test the regulatory relationship between three key variables:\n",
    "\n",
    "1. Independent variable: Fruit intake frequency\n",
    "2. Mediator: Abundance of *Eubacterium eligens*\n",
    "3. Dependent variable: Glucose levels\n",
    "\n",
    "This analysis will help us understand whether the effect of fruit intake on glucose levels is mediated by changes in the abundance of *E. eligens* in the gut microbiome."
   ]
  },
  {
   "cell_type": "code",
   "execution_count": null,
   "id": "a8c237e4",
   "metadata": {},
   "outputs": [],
   "source": [
    "Microbe <- microbiome_clr[, grep(\"s__Eubacterium_eligens\", colnames(microbiome_clr))]\n",
    "mediation_input <- data.frame(phenotype_data, Microbe)\n",
    "\n",
    "# Test relationship between independent variable (FruitIntakeFrequency) and mediator (Microbe)\n",
    "fit_mediator <- lm(Microbe ~ Age + Sex + CleanReadCount + FruitIntakeFrequency, data = mediation_input)\n",
    "summary(fit_mediator)\n",
    "\n",
    "# Test relationship between mediator (Microbe) and outcome (Glucose)\n",
    "fit_dv <- lm(Glucose ~ Age + Sex + CleanReadCount + FruitIntakeFrequency + Microbe, data = mediation_input)\n",
    "summary(fit_dv)\n",
    "\n",
    "# Mediation analysis\n",
    "mediation_res <- mediate(fit_mediator, fit_dv, treat = 'FruitIntakeFrequency', mediator = 'Microbe', boot = TRUE)\n",
    "summary(mediation_res)\n",
    "\n",
    "# ACME represents the indirect effect of FruitIntakeFrequency on glucose via *Eubacterium eligens*.\n",
    "# ADE represents the direct effect of FruitIntakeFrequency on glucose.\n",
    "# Total Effect is the sum of direct and indirect effects.\n",
    "# Prop. Mediated describes the proportion of the effect that is mediated by *Eubacterium eligens*."
   ]
  }
 ],
 "metadata": {
  "jupytext": {
   "cell_metadata_filter": "message,tags,name,warning,-all",
   "main_language": "R",
   "notebook_metadata_filter": "-all"
  }
 },
 "nbformat": 4,
 "nbformat_minor": 5
}
