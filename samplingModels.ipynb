{
 "cells": [
  {
   "cell_type": "markdown",
   "id": "1f048884-ba05-4a46-817a-f1e464ea7882",
   "metadata": {},
   "source": [
    "### Sampling the solution space of metabolic models\n",
    "\n",
    "While FBA finds a single maximum for the objective function, one might be interested in the space of viable metabolisms. This space reveals the range of conditions where the cell could live without the assumption of maximizing an objective function. \n",
    "\n",
    "The space of viable metabolisms is explored by taking uniform samples from the flux distribution. Besides revealing the cell's metabolic potential, these samples also reveal the conformations of higher likelihood and the burden of regulation needed for the cell to achieve its \"maximum growth\". In the example below, we compare the point of optimal growth with alternative flux distributions.\n",
    "\n"
   ]
  },
  {
   "cell_type": "markdown",
   "id": "74c60744-8e08-4f83-9b5b-ea496d946ef4",
   "metadata": {},
   "source": [
    "### Task: flux sampling \n",
    "\n",
    "- Use flux sampling to explore how the three toy species respond to (i) a rich environment, (ii) an environment where the only carbon source is glucose, and (iii) an environment where glucose is absent.\n",
    "\n",
    "\n",
    "- (given as an example below) For the sugar fermenter, compare biomass production to: (i) glycolysis (reaction rxn00459), (ii) formate production (reaction EX_cpd00047_e), (iii) lactate production (EX_cpd00159_e), and (iv) succinate production (EX_cpd00036_e)\n",
    "\n",
    "- For the butyrate producer, compare biomass production to: (i) glycolysis (reaction rxn00459), (ii) lactate dehydrogenase (reaction rxn00499), and (iii) butyrate production (reaction EX_cpd00211_e)\n",
    "\n",
    "- For the acetogen, compare biomass production to: (i) glycolysis (reaction rxn00459), (ii) the Wood-Ljungdahl pathway (reaction rxn39948), and (iii) acetate production (reaction EX_cpd00029_e)\n",
    "\n",
    " \n"
   ]
  },
  {
   "cell_type": "markdown",
   "id": "ee7a094b-0624-4f06-b2b0-7517e6bf583b",
   "metadata": {},
   "source": [
    "#### Example of solution for the sugar fermenter"
   ]
  },
  {
   "cell_type": "markdown",
   "id": "245e9c6c-0ac6-4b74-9e33-77f6c8df2a43",
   "metadata": {},
   "source": [
    "**step 1** : import packages and create the auxiliary function that allows us to modify the environment"
   ]
  },
  {
   "cell_type": "code",
   "execution_count": null,
   "id": "77596343-c0dc-4ada-9652-2f2376db7775",
   "metadata": {},
   "outputs": [],
   "source": [
    "# import the necessary packages and functions\n",
    "import os\n",
    "import cobra\n",
    "import numpy as np\n",
    "from cobra.sampling import ACHRSampler\n",
    "\n",
    "#for making the plots\n",
    "import matplotlib.pyplot as plt\n",
    "plt.style.use('seaborn-bright')\n",
    "\n",
    "# an auxiliary function\n",
    "def apply_environment(mdl, media_dict):\n",
    "    '''\n",
    "    replace the availability of metabolites from the \n",
    "    extracellular environment.\n",
    "    \n",
    "    mdl: cobrapy.model\n",
    "    media_dict: [exchangeReactionId]:positive concentration\n",
    "    \n",
    "    returns: the objective value on the new environment\n",
    "    '''\n",
    "    for i in media_dict:\n",
    "        if mdl.reactions.has_id(i): #only if model contains the reaction\n",
    "            mdl.reactions.get_by_id(i).lower_bound=-media_dict[i]\n",
    "        \n",
    "    sol_m=mdl.optimize()\n",
    "    return sol_m.objective_value"
   ]
  },
  {
   "cell_type": "markdown",
   "id": "5bd9b6bd-daed-4860-8e35-70240aedb15d",
   "metadata": {},
   "source": [
    "**step 2** : load the model, apply the rich media"
   ]
  },
  {
   "cell_type": "code",
   "execution_count": null,
   "id": "b3fc0c75-076b-43fd-b0a2-2b42099ac487",
   "metadata": {},
   "outputs": [],
   "source": [
    "#folder with models\n",
    "modelFolder = '/data/precomputed/sbmlModels'\n",
    "\n",
    "\n",
    "model_sf = cobra.io.read_sbml_model(os.path.join(modelFolder,'sugar_fermenter_toy_model.xml' ))\n",
    "\n",
    "rich_media = {'EX_cpd00027_e':10,\n",
    "         'EX_cpd00011_e':10,\n",
    "         'EX_cpd11640_e':10,\n",
    "         'EX_cpd00159_e':10,\n",
    "         'EX_cpd00047_e':10,\n",
    "         'EX_cpd00029_e':10,\n",
    "         'EX_cp00067_e':10\n",
    "         }\n",
    "\n",
    "apply_environment(model_sf, rich_media)\n"
   ]
  },
  {
   "cell_type": "markdown",
   "id": "02fd2620-76b6-434d-b86c-1bf1fbf97d58",
   "metadata": {},
   "source": [
    "**step 3**: perform sampling"
   ]
  },
  {
   "cell_type": "code",
   "execution_count": null,
   "id": "413cb013-4638-4879-bd3d-78a9826438b8",
   "metadata": {},
   "outputs": [],
   "source": [
    "sol = model_sf.optimize()\n",
    "z = sol.objective_value #the objective value\n",
    "\n",
    "#reaction fluxes under the optimal solution\n",
    "glycolysis = model_sf.reactions.rxn00459.flux \n",
    "fp = model_sf.reactions.EX_cpd00047_e.flux #formate production\n",
    "lp = model_sf.reactions.EX_cpd00159_e.flux #lactate production\n",
    "sp = model_sf.reactions.EX_cpd00036_e.flux #succinate production\n",
    "\n",
    "achr = ACHRSampler(model_sf, thinning=10) #see https://cobrapy.readthedocs.io/en/latest/sampling.html\n",
    "s1 = achr.sample(5000) #samples\n",
    "v = achr.validate(s1) \n",
    "sample = s1[v=='v'] #keep only the feasible samples"
   ]
  },
  {
   "cell_type": "markdown",
   "id": "d3227c72-d2a6-4c14-a481-90a0146242c8",
   "metadata": {},
   "source": [
    "**step 4**: make plots"
   ]
  },
  {
   "cell_type": "code",
   "execution_count": null,
   "id": "e15fde83-330f-47e3-a2c5-66e164bcd7f0",
   "metadata": {},
   "outputs": [],
   "source": [
    "fig, ax = plt.subplots()\n",
    "\n",
    "#sampled biomass vs the sampled glycolysis\n",
    "ax.scatter(sample.biomass, sample.rxn00459, s=0.1, color='#add8e6', alpha=0.5)\n",
    "\n",
    "#optimal biomass vs the optimal glycolysis\n",
    "ax.scatter(sol.objective_value, glycolysis, s=80, color='#add8e6', label = 'Glycolysis', edgecolors='k')\n",
    "\n",
    "#sampled biomass vs the sampled formate production\n",
    "ax.scatter(sample.biomass, sample.EX_cpd00047_e, s=0.1, color='purple', alpha=0.5)\n",
    "\n",
    "#optimal biomass vs the optimal formate production\n",
    "ax.scatter(sol.objective_value, fp, s=80, color='purple', label = 'Formate prod', edgecolors='k')\n",
    "\n",
    "#sampled biomass vs the sampled succinate production\n",
    "ax.scatter(sample.biomass, sample.EX_cpd00036_e, s=0.1, color='orange', alpha=0.5)\n",
    "\n",
    "#optimal biomass vs the optimal succinate production\n",
    "ax.scatter(sol.objective_value, sp, s=80, color='orange', label = 'Succinate prod', edgecolors='k')\n",
    "\n",
    "#sampled biomass vs the sampled lactate production\n",
    "ax.scatter(sample.biomass, sample.EX_cpd00159_e, s=0.1, color='#00ff9f', alpha=0.5)\n",
    "\n",
    "#optimal biomass vs the optimal lactate production\n",
    "ax.scatter(sol.objective_value, lp, s=80, color='#00ff9f', label = 'Lactate prod', edgecolors='k')\n",
    "\n",
    "ax.set_ylabel('Flux', fontsize=14)\n",
    "ax.set_xlabel('Biomass flux', fontsize=14)\n",
    "plt.legend(fontsize='large', fancybox=True, title='Carb. Ferm.', title_fontsize='x-large', loc=2)\n",
    "plt.xlim(0,z+1)\n",
    "\n",
    "plt.savefig('/home/daniel_garza/plots/carbF_sample.png', dpi=300)\n"
   ]
  }
 ],
 "metadata": {
  "kernelspec": {
   "display_name": "Python 3 (ipykernel)",
   "language": "python",
   "name": "python3"
  },
  "language_info": {
   "codemirror_mode": {
    "name": "ipython",
    "version": 3
   },
   "file_extension": ".py",
   "mimetype": "text/x-python",
   "name": "python",
   "nbconvert_exporter": "python",
   "pygments_lexer": "ipython3",
   "version": "3.9.13"
  }
 },
 "nbformat": 4,
 "nbformat_minor": 5
}
